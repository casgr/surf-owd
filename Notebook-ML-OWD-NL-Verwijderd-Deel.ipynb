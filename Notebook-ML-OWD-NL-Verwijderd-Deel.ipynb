{
 "cells": [
  {
   "cell_type": "markdown",
   "metadata": {},
   "source": [
    "# Einde sessie hier? Foto uploaden misschien te ingewikkeld\n",
    "\n",
    "Nu het neurale netwerk getraind is, kunnen we voorspellingen gaan doen:\n",
    "\n",
    "- Schrijf een nummer op, en maak er een foto van met je smartphone.\n",
    "\n",
    "\n",
    "- Gebruik je smartphone om een vierkante uitsnede van de foto te maken.\n",
    "\n",
    "\n",
    "- Upload de foto in de map waarin ook deze notebook staat.\n",
    "\n",
    "Zodra je foto is geupload, kun je de onderstaande verwijzing onder de variabele `file` aanpassen, zodat deze dezelfde bestandsnaam heeft al de zojuist toegevoegde foto. Wanneer het niet lukt om een foto te maken kan gebruik gemaakt worden van een voorbeeldfoto -- voer dan `images/img.jpg` in als bestandsnaam:"
   ]
  },
  {
   "cell_type": "code",
   "execution_count": 1,
   "metadata": {},
   "outputs": [
    {
     "name": "stdout",
     "output_type": "stream",
     "text": [
      "Bestandsnaam bijgewerkt.\n"
     ]
    }
   ],
   "source": [
    "file = 'bestandsnaam-hier.jpg'\n",
    "\n",
    "print('Bestandsnaam bijgewerkt.')"
   ]
  },
  {
   "cell_type": "markdown",
   "metadata": {},
   "source": [
    "Wanneer alles goed is gegaan kunnen we de foto visualiseren:"
   ]
  },
  {
   "cell_type": "code",
   "execution_count": null,
   "metadata": {},
   "outputs": [],
   "source": [
    "img = cv2.imread(file,0)\n",
    "img = cv2.resize(img, (28, 28))\n",
    "img = (255-img)\n",
    "img = np.reshape(img, [1, 28 * 28])\n",
    "plt.imshow(img[0].reshape(28,28), cmap=plt.get_cmap('gray'))\n",
    "plt.show"
   ]
  },
  {
   "cell_type": "markdown",
   "metadata": {},
   "source": [
    "Onze foto zou er nu min of meer hetzelfde uit moeten zien als de voorbeelden uit de train-dataset. Als laatste presenteren we de foto aan ons neurale netwerk, om een voorspelling te kunnen doen:"
   ]
  },
  {
   "cell_type": "code",
   "execution_count": null,
   "metadata": {},
   "outputs": [],
   "source": [
    "print(\"Het op perceptrons gebaseerde neurale netwerk voorspelt:\", (np.argmax(network.predict(img))))"
   ]
  },
  {
   "cell_type": "markdown",
   "metadata": {},
   "source": [
    "Was de voorspelling juist?\n",
    "\n",
    "__=====================================================================================================================__\n",
    "<b><center>Stop Hier</center></b>\n",
    "__=====================================================================================================================__\n",
    "\n",
    "Kijk niet vreemd op wanneer het netwerk niet in staat was een juiste voorspelling te doen. De perceptrons die we tot nu toe hebben gebruikt zijn een van de simpelste vormen van neurale netwerken.\n",
    "\n",
    "Laten we proberen om de afbeelding door een geavanceerder neuraal netwerk te halen. Om dit te doen moeten we de datasets opnieuw importeren en verwerken, een nieuw neuraal netwerk opzetten en het netwerk opnieuw trainen. Door de geavanceerde structuur van het onderstaande netwerk kan het langer duren om te trainen.\n",
    "\n",
    "De theorie achter het type netwerk dat we nu gaan toepassen (een convolutional neuraal netwerk) valt buiten de scope van deze sessie."
   ]
  },
  {
   "cell_type": "code",
   "execution_count": null,
   "metadata": {},
   "outputs": [],
   "source": [
    "(train_images, train_labels), (test_images, test_labels) = mnist.load_data()\n",
    "\n",
    "train_images = train_images.reshape((60000, 28, 28, 1))\n",
    "train_images = train_images.astype('float32') / 255\n",
    "\n",
    "test_images = test_images.reshape((10000, 28, 28, 1))\n",
    "test_images = test_images.astype('float32') / 255\n",
    "\n",
    "train_labels = to_categorical(train_labels)\n",
    "test_labels = to_categorical(test_labels)\n",
    "\n",
    "model = models.Sequential()\n",
    "model.add(layers.Conv2D(32, (3, 3), activation='relu', input_shape=(28, 28, 1)))\n",
    "model.add(layers.MaxPooling2D((2, 2)))\n",
    "model.add(layers.Conv2D(64, (3, 3), activation='relu'))\n",
    "model.add(layers.MaxPooling2D((2, 2)))\n",
    "model.add(layers.Conv2D(64, (3, 3), activation='relu'))\n",
    "model.add(layers.Flatten())\n",
    "model.add(layers.Dense(64, activation='relu'))\n",
    "model.add(layers.Dense(10, activation='softmax'))\n",
    "\n",
    "model.compile(optimizer='rmsprop',\n",
    "              loss='categorical_crossentropy',\n",
    "              metrics=['accuracy'])\n",
    "model.fit(train_images, train_labels, epochs=5, batch_size=64)\n",
    "\n",
    "test_loss, test_acc = model.evaluate(test_images, test_labels)\n",
    "\n",
    "print('test_acc:', test_acc)"
   ]
  },
  {
   "cell_type": "markdown",
   "metadata": {},
   "source": [
    "Terwijl ons eerdere netwerk een nauwkeurigheidsscore van ongeveer 92% haalde, bereikt dit nieuwe netwerk een score van 99% !\n",
    "\n",
    "Nu kunnen we opnieuw een voorspelling uitvoeren."
   ]
  },
  {
   "cell_type": "code",
   "execution_count": null,
   "metadata": {},
   "outputs": [],
   "source": [
    "img2 = cv2.imread(file,0)\n",
    "img2 = cv2.resize(img2, (28, 28))\n",
    "img2 = (255-img2)\n",
    "img2 = np.reshape(img2, [1, 28, 28, 1])\n",
    "\n",
    "print(\"Het geavanceerde neurale netwerk voorspelt:\", (np.argmax(model.predict(img2))))"
   ]
  }
 ],
 "metadata": {
  "kernelspec": {
   "display_name": "Python 3",
   "language": "python",
   "name": "python3"
  },
  "language_info": {
   "codemirror_mode": {
    "name": "ipython",
    "version": 3
   },
   "file_extension": ".py",
   "mimetype": "text/x-python",
   "name": "python",
   "nbconvert_exporter": "python",
   "pygments_lexer": "ipython3",
   "version": "3.7.3"
  }
 },
 "nbformat": 4,
 "nbformat_minor": 2
}
